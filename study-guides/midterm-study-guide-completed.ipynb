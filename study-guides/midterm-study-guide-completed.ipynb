{
  "cells": [
    {
      "cell_type": "markdown",
      "metadata": {
        "id": "view-in-github",
        "colab_type": "text"
      },
      "source": [
        "<a href=\"https://colab.research.google.com/github/siriyar1013/BME3053C-Spring-2025/blob/main/study-guides/midterm-study-guide-completed.ipynb\" target=\"_parent\"><img src=\"https://colab.research.google.com/assets/colab-badge.svg\" alt=\"Open In Colab\"/></a>"
      ]
    },
    {
      "cell_type": "markdown",
      "id": "456796a4",
      "metadata": {
        "id": "456796a4"
      },
      "source": [
        "# BME3053C Midterm Study Guide\n",
        "\n",
        "This Jupyter Notebook provides practice problems covering concepts included in the midterm.\n",
        "\n",
        "- Type conversion\n",
        "- Conditionals (if/elif/else)\n",
        "- Boolean logic\n",
        "- Loops (for/while)\n",
        "- List slicing\n",
        "- Variable scope\n",
        "- References and mutability\n",
        "- NumPy array operations (basic arithmetic, broadcasting)\n",
        "- Matplotlib basics (plotting)\n",
        "\n",
        "\n",
        "Try each code snippet, predict the output, and then run the code to confirm your understanding.\n",
        "\n",
        "### Original Lesson Link: [![Open In Colab](https://colab.research.google.com/assets/colab-badge.svg)](https://colab.research.google.com/github/uf-bme/BME3053C-Spring-2025/blob/main/study-guides/midterm-study-guide.ipynb)\n",
        "\n"
      ]
    },
    {
      "cell_type": "markdown",
      "id": "056fa50a",
      "metadata": {
        "id": "056fa50a"
      },
      "source": [
        "\n",
        "## Tips to Succeed\n",
        "\n",
        "- Don't rush through the problems! Pay close attention to the syntax in each code cell (especially in print statements).\n",
        "- Try tweaking the code cells in this notebook to see how changes affect the output. Write down your predictions and the modified code on paper before running it.\n",
        "- Review the output and compare it with your predictions to reinforce your understanding.\n"
      ]
    },
    {
      "cell_type": "markdown",
      "id": "adfb1d07",
      "metadata": {
        "id": "adfb1d07"
      },
      "source": [
        "## Conditionals and Boolean Logic\n",
        "\n",
        "- Conditionals allow you to execute different blocks of code based on certain conditions.\n",
        "- Boolean logic helps in combining multiple conditions using logical operators like `and`, `or`, and `not`.\n",
        "\n",
        "**Task:** Predict the output of the code below.\n"
      ]
    },
    {
      "cell_type": "code",
      "execution_count": 1,
      "id": "33be82e7",
      "metadata": {
        "id": "33be82e7",
        "outputId": "71063b36-62cf-4db8-ed93-40f21f546b4a",
        "colab": {
          "base_uri": "https://localhost:8080/"
        }
      },
      "outputs": [
        {
          "output_type": "stream",
          "name": "stdout",
          "text": [
            "Case 2\n",
            "Done\n"
          ]
        }
      ],
      "source": [
        "x = 6\n",
        "y = 3\n",
        "\n",
        "if x > 5 and y < 3:\n",
        "    print(\"Case 1\")\n",
        "elif x == 6 or y == 3:\n",
        "    print(\"Case 2\")\n",
        "else:\n",
        "    print(\"Case 3\")\n",
        "print(\"Done\")\n",
        "\n",
        "# Case 2\n",
        "# Done"
      ]
    },
    {
      "cell_type": "markdown",
      "id": "d0d84cb3",
      "metadata": {
        "id": "d0d84cb3"
      },
      "source": [
        "\n",
        "## Multiple Conditionals in a Single Statement\n",
        "\n",
        "* You can combine multiple conditions in a single `if`, `elif`, or `else` statement using logical operators like `and`, `or`, and `not`.\n",
        "* When using `and`, the condition will only be true if both conditions are true.\n",
        "* When using `or`, the condition will be true if at least one of the conditions is true.\n",
        "* Parentheses will help ensure the condition is evaluated in the order you want.\n",
        "\n",
        "### Practice\n",
        "\n",
        "Predict the prints, then run the cell below to check.\n",
        "\n",
        "\n"
      ]
    },
    {
      "cell_type": "code",
      "execution_count": 2,
      "id": "1381f8d7",
      "metadata": {
        "id": "1381f8d7",
        "outputId": "2058b465-d1e4-4d8b-bb0f-afb9e45bdab1",
        "colab": {
          "base_uri": "https://localhost:8080/"
        }
      },
      "outputs": [
        {
          "output_type": "stream",
          "name": "stdout",
          "text": [
            "Condition 2\n",
            "Done\n"
          ]
        }
      ],
      "source": [
        "a = 10\n",
        "b = 9\n",
        "c = 7\n",
        "\n",
        "if (a > b) and (b < c):\n",
        "    print(\"Condition 1\")\n",
        "elif (a > b) or (b < c):\n",
        "    print(\"Condition 2\")\n",
        "else:\n",
        "    print(\"Condition 3\")\n",
        "print(\"Done\")\n",
        "\n",
        "# Condition 2\n",
        "# Done"
      ]
    },
    {
      "cell_type": "markdown",
      "id": "472f4229",
      "metadata": {
        "id": "472f4229"
      },
      "source": [
        "## Type Conversion\n",
        "\n",
        "- Type conversion is the process of converting one data type to another.\n",
        "- This is useful when you need to convert data from one type to another.\n",
        "- The `int()`, `str()`, and `float()` functions are commonly used for type conversion.\n",
        "\n",
        "\n",
        "**On the test, you could just write int or float. You wouldn't need to write <class 'int'> or  <class 'float'>**\n",
        "\n",
        " **Task:** Understand how to convert between different data types using `int()`, `str()`, and `float()` functions.\n",
        "\n"
      ]
    },
    {
      "cell_type": "code",
      "execution_count": 3,
      "id": "7b6edcec",
      "metadata": {
        "id": "7b6edcec",
        "outputId": "444780a0-578f-44cf-fe2c-e406331fa162",
        "colab": {
          "base_uri": "https://localhost:8080/"
        }
      },
      "outputs": [
        {
          "output_type": "stream",
          "name": "stdout",
          "text": [
            "123 <class 'int'>\n",
            "12 <class 'int'>\n",
            "True <class 'str'>\n"
          ]
        }
      ],
      "source": [
        "num_str = \"123\"\n",
        "num_int = int(num_str)\n",
        "print(num_int, type(num_int))\n",
        "\n",
        "float_num = 12.34\n",
        "int_num = int(float_num)\n",
        "print(int_num, type(int_num))\n",
        "\n",
        "bool_val = True\n",
        "str_bool = str(bool_val)\n",
        "print(str_bool, type(str_bool))\n",
        "\n",
        "# 123 <class 'int'>\n",
        "# 12 <class 'int'>\n",
        "# True <class 'str'>"
      ]
    },
    {
      "cell_type": "markdown",
      "id": "787ba37c",
      "metadata": {
        "id": "787ba37c"
      },
      "source": [
        "## For Loops\n",
        "\n",
        "- A for loop is used to iterate over a sequence (such as a list, tuple, dictionary, set, or string).\n",
        "- The range() function is commonly used with for loops to generate a sequence of numbers.\n",
        "\n",
        "\n",
        "### Prompt\n",
        "\n",
        "```python\n",
        "total_sum = 0\n",
        "for i in range(3, 8):  # 3, 4, 5, 6, 7\n",
        "    total_sum += i\n",
        "print(total_sum)\n",
        "```\n",
        "\n",
        "**Task:** Predict the final value of `total_sum`.\n"
      ]
    },
    {
      "cell_type": "code",
      "execution_count": 4,
      "id": "09b99306",
      "metadata": {
        "id": "09b99306",
        "outputId": "7d11ac3d-7805-47e4-bffc-67879f08b7eb",
        "colab": {
          "base_uri": "https://localhost:8080/"
        }
      },
      "outputs": [
        {
          "output_type": "stream",
          "name": "stdout",
          "text": [
            "i= 3 total_sum= 3\n",
            "i= 4 total_sum= 7\n",
            "i= 5 total_sum= 12\n",
            "12\n"
          ]
        }
      ],
      "source": [
        "total_sum = 0\n",
        "for i in range(3, 6):\n",
        "    total_sum += i\n",
        "    print('i=',i,'total_sum=',total_sum)\n",
        "\n",
        "print(total_sum)\n",
        "\n",
        "# i= 3 total_sum= 3\n",
        "# i= 4 total_sum= 7\n",
        "# i= 5 total_sum= 12\n",
        "# 12"
      ]
    },
    {
      "cell_type": "markdown",
      "source": [
        "### Continue and Break Statements\n",
        "- **Break Statement in Python:**\n",
        "  - Immediately exits the loop when executed.\n",
        "  - Useful when a certain condition is met and no further iterations are needed.\n",
        "  - Example:\n",
        "    ```python\n",
        "    for num in range(10):\n",
        "        if num == 5:\n",
        "            break  # Exit the loop\n",
        "        print(num)\n",
        "    ```\n",
        "\n",
        "- **Continue Statement in Python:**\n",
        "  - Skips the rest of the code in the current loop iteration.\n",
        "  - Proceeds directly to the next iteration of the loop.\n",
        "  - Example:\n",
        "    ```python\n",
        "    for num in range(10):\n",
        "        if num % 2 == 0:\n",
        "            continue  # Skip even numbers\n",
        "        print(num)\n",
        "    ```\n"
      ],
      "metadata": {
        "id": "u89qHhIUOvqd"
      },
      "id": "u89qHhIUOvqd"
    },
    {
      "cell_type": "code",
      "source": [
        "for i in range(3,8):\n",
        "  if i < 6:\n",
        "    continue\n",
        "  print('i=',i)\n",
        "print('final',i)\n",
        "\n",
        "# i= 6\n",
        "# i= 7\n",
        "# final 7"
      ],
      "metadata": {
        "id": "cw424PlZOTO0",
        "outputId": "c2a49135-1cb1-4264-c042-3b78287201e4",
        "colab": {
          "base_uri": "https://localhost:8080/"
        }
      },
      "id": "cw424PlZOTO0",
      "execution_count": 5,
      "outputs": [
        {
          "output_type": "stream",
          "name": "stdout",
          "text": [
            "i= 6\n",
            "i= 7\n",
            "final 7\n"
          ]
        }
      ]
    },
    {
      "cell_type": "code",
      "source": [
        "total_sum = 0\n",
        "for i in range(3, 7):\n",
        "    if i == 4:\n",
        "      continue\n",
        "    if i > 5:\n",
        "      break\n",
        "    total_sum += i\n",
        "    print(i,total_sum)\n",
        "\n",
        "print('final',i,total_sum)\n",
        "\n",
        "# 3 3\n",
        "# 5 8\n",
        "# final 6 8"
      ],
      "metadata": {
        "id": "j57DwerpM_bT",
        "outputId": "28939942-136a-44ea-92ec-f64dfdec8d81",
        "colab": {
          "base_uri": "https://localhost:8080/"
        }
      },
      "id": "j57DwerpM_bT",
      "execution_count": 6,
      "outputs": [
        {
          "output_type": "stream",
          "name": "stdout",
          "text": [
            "3 3\n",
            "5 8\n",
            "final 6 8\n"
          ]
        }
      ]
    },
    {
      "cell_type": "markdown",
      "id": "444dd591",
      "metadata": {
        "id": "444dd591"
      },
      "source": [
        "## While Loops\n",
        "\n",
        "- A while loop is used to execute a block of code repeatedly as long as a condition is true.\n",
        "- The condition is evaluated before each iteration of the loop.\n",
        "\n",
        "**Task:** Observe how the loop increments `count` and prints when `count == 2`.\n",
        "\n",
        "\n"
      ]
    },
    {
      "cell_type": "code",
      "execution_count": 7,
      "id": "1445657a",
      "metadata": {
        "id": "1445657a",
        "outputId": "a6e8b457-46ff-4c37-c881-581268b4634d",
        "colab": {
          "base_uri": "https://localhost:8080/"
        }
      },
      "outputs": [
        {
          "output_type": "stream",
          "name": "stdout",
          "text": [
            "Halfway there! count2= 3\n",
            "Final count: 5\n",
            "Final count2: 5\n"
          ]
        }
      ],
      "source": [
        "count = 0\n",
        "count2=0\n",
        "\n",
        "while count < 5:\n",
        "    count2+=1\n",
        "    if count == 2:\n",
        "        print(\"Halfway there!\",\"count2=\",count2)\n",
        "    count += 1\n",
        "\n",
        "print(\"Final count:\", count)\n",
        "print(\"Final count2:\",count2)\n",
        "\n",
        "# Halfway there! count2= 3\n",
        "# Final count: 5\n",
        "# Final count2: 5"
      ]
    },
    {
      "cell_type": "markdown",
      "id": "41861314",
      "metadata": {
        "id": "41861314"
      },
      "source": [
        "## List Slicing\n",
        "\n",
        "- List slicing allows you to extract a portion of a list.\n",
        "- The syntax is `list[start:stop:step]`.\n",
        "- The start index is inclusive, the stop index is exclusive, and the step is optional.\n",
        "- Negative indices can be used to slice from the end of the list.\n",
        "- The step can be negative to reverse the order of the slice.\n",
        "\n"
      ]
    },
    {
      "cell_type": "code",
      "execution_count": 8,
      "id": "3dce214e",
      "metadata": {
        "id": "3dce214e",
        "outputId": "4665c8c8-c205-47cd-f751-d4095dc3a4ab",
        "colab": {
          "base_uri": "https://localhost:8080/"
        }
      },
      "outputs": [
        {
          "output_type": "stream",
          "name": "stdout",
          "text": [
            "nums[2:] => [30, 40, 50, 60]\n",
            "nums[:3] => [10, 20, 30]\n",
            "nums[1:5:2] => [20, 40]\n",
            "nums[1:4] => [20, 30, 40]\n",
            "nums[-3:-1:1] => [40, 50]\n",
            "nums[-3:1:-1] => [40, 30]\n"
          ]
        }
      ],
      "source": [
        "nums = [10, 20, 30, 40, 50, 60]\n",
        "print(\"nums[2:] =>\", nums[2:])\n",
        "print(\"nums[:3] =>\", nums[:3])\n",
        "print(\"nums[1:5:2] =>\", nums[1:5:2])\n",
        "print(\"nums[1:4] =>\", nums[1:4])\n",
        "print(\"nums[-3:-1:1] =>\", nums[-3:-1:1])\n",
        "print(\"nums[-3:1:-1] =>\", nums[-3:1:-1])\n",
        "\n",
        "# nums[2:] => 30, 40, 50, 60 -> goes to end of list here\n",
        "# nums[:3] => 10, 20, 30\n",
        "# nums[1:5:2] => 20, 40\n",
        "# nums[1:4] => 20, 30, 40\n",
        "# nums[-3:-1:1] => 40, 50\n",
        "# nums[-3:1:-1] => 40, 30 -> consider the end of the list to be -1"
      ]
    },
    {
      "cell_type": "markdown",
      "id": "4e7db033",
      "metadata": {
        "id": "4e7db033"
      },
      "source": [
        "\n",
        "\n",
        "## Variable Scope\n",
        "\n",
        "Variable scope refers to the context in which a variable is defined and accessible. In Python, there are two main types of variable scope:\n",
        "\n",
        "1. **Global Scope**: Variables defined outside of any function or block, accessible throughout the entire script.\n",
        "2. **Local Scope**: Variables defined within a function or block, accessible only within that function or block.\n",
        "\n",
        "Understanding variable scope is crucial for avoiding naming conflicts and ensuring that variables are used correctly within their intended context.\n",
        "\n",
        "\n",
        "**Task:** Notice how `my_var` inside the function is not the same as the **global** `my_var`.\n"
      ]
    },
    {
      "cell_type": "code",
      "execution_count": 11,
      "id": "ebbeaf06",
      "metadata": {
        "id": "ebbeaf06",
        "outputId": "75be91ea-5ce6-4075-c372-0eab50736927",
        "colab": {
          "base_uri": "https://localhost:8080/"
        }
      },
      "outputs": [
        {
          "output_type": "stream",
          "name": "stdout",
          "text": [
            "my_var = 100\n",
            "result = 5\n"
          ]
        }
      ],
      "source": [
        "my_var = 100\n",
        "def multiply_by_two(x):\n",
        "    my_var = x * 2\n",
        "    return x\n",
        "\n",
        "result = multiply_by_two(5)\n",
        "print(\"my_var =\", my_var)\n",
        "print(\"result =\", result)\n",
        "\n",
        "# my var = 100\n",
        "# result = 5"
      ]
    },
    {
      "cell_type": "markdown",
      "id": "5b772d93",
      "metadata": {
        "id": "5b772d93"
      },
      "source": [
        "## Function Parameters and Return Values\n",
        "\n",
        "- When working with functions, it's important to understand how return values and variable scope work.\n",
        "- In the example below, the function `add_two_numbers` is supposed to return the sum of two numbers, but it currently returns x.\n",
        "\n",
        "\n",
        "**Task:** Evaluate the importance of return values in the function `add_two_numbers`.\n"
      ]
    },
    {
      "cell_type": "code",
      "execution_count": 13,
      "id": "b5e51643",
      "metadata": {
        "id": "b5e51643",
        "outputId": "108a995d-f66a-4373-a414-258a0c081c3c",
        "colab": {
          "base_uri": "https://localhost:8080/"
        }
      },
      "outputs": [
        {
          "output_type": "stream",
          "name": "stdout",
          "text": [
            "13\n"
          ]
        }
      ],
      "source": [
        "var1 = 7\n",
        "def add_two_numbers(x,y):\n",
        "    local_var = x + y\n",
        "    return y\n",
        "\n",
        "\n",
        "var2 = add_two_numbers(5,6)\n",
        "\n",
        "var3 = var1+var2\n",
        "print(var3)\n",
        "\n",
        "# 13"
      ]
    },
    {
      "cell_type": "markdown",
      "id": "09cbccb1",
      "metadata": {
        "id": "09cbccb1"
      },
      "source": [
        "## References & Mutability\n",
        "\n",
        "- Lists are mutable, meaning their contents can be changed after they are created.\n",
        "- When a list is assigned to a new variable, the new variable references the same list.\n",
        "\n",
        "**Task:** Understand how inserting into `another_ref` also affects `a_list` because both point to the same list.\n"
      ]
    },
    {
      "cell_type": "code",
      "execution_count": 14,
      "id": "a64b7480",
      "metadata": {
        "id": "a64b7480",
        "outputId": "081911a1-1f2a-4734-876d-d44105c9494f",
        "colab": {
          "base_uri": "https://localhost:8080/"
        }
      },
      "outputs": [
        {
          "output_type": "stream",
          "name": "stdout",
          "text": [
            "a_list = [5, 6]\n",
            "another_ref = [5, 6, 10]\n"
          ]
        }
      ],
      "source": [
        "import copy\n",
        "a_list = [5, 6]\n",
        "another_ref = copy.deepcopy(a_list) # helps to copy and make a separate copy with another_ref\n",
        "another_ref.append(10)\n",
        "\n",
        "print(\"a_list =\", a_list)\n",
        "print(\"another_ref =\", another_ref)\n",
        "\n",
        "# a_list = 5, 6\n",
        "# another_ref = 5, 6, 10"
      ]
    },
    {
      "cell_type": "markdown",
      "id": "218c07b3",
      "metadata": {
        "id": "218c07b3"
      },
      "source": [
        "## NumPy: Basic Arithmetic & Broadcasting\n",
        "\n",
        "- NumPy is a powerful library for numerical computing in Python.\n",
        "- It provides a fast and efficient way to handle large arrays and matrices of numerical data.\n",
        "- Broadcasting is a feature of NumPy that allows for element-wise operations between arrays of different shapes.\n",
        "\n",
        "\n",
        "**Task:** Practice element-wise operations.\\*\\*\n",
        "\n",
        "\n"
      ]
    },
    {
      "cell_type": "code",
      "execution_count": 15,
      "id": "22cd4fe5",
      "metadata": {
        "id": "22cd4fe5",
        "outputId": "e8f4f117-f4ba-4fda-dc9f-78498f62f9aa",
        "colab": {
          "base_uri": "https://localhost:8080/"
        }
      },
      "outputs": [
        {
          "output_type": "stream",
          "name": "stdout",
          "text": [
            "[5 7 9]\n",
            "[ 4  8 12]\n",
            "[3 5 7]\n",
            "z_matrix + x_arr =>\n",
            "[[ 3  6  9]\n",
            " [ 6  9 12]\n",
            " [ 6 10 14]]\n",
            "z_matrix * z_arr =>\n",
            "[[ 4  8 12]\n",
            " [12 15 18]\n",
            " [ 8 12 16]]\n"
          ]
        }
      ],
      "source": [
        "import numpy as np\n",
        "x_arr = np.array([2, 4, 6])\n",
        "y_arr = np.array([1, 1, 1])\n",
        "z_arr = np.array([[4],[3],[2]])\n",
        "z_matrix = np.array([[1, 2, 3], [4, 5, 6],[4, 6, 8]])\n",
        "\n",
        "print( x_arr + 3) #  x_arr + 3 => [5 7 9]\n",
        "print(x_arr * 2) #  x_arr * 2 => [4 8 12]\n",
        "print(x_arr + y_arr) # x_arr + y_arr => [3 5 7]\n",
        "print(\"z_matrix + x_arr =>\") # z_matrix + x_arr =>\n",
        "print(z_matrix + x_arr) #\n",
        "print(\"z_matrix * z_arr =>\")\n",
        "print(z_matrix * z_arr)\n",
        "\n",
        "# [5 7 9]\n",
        "# [4 8 12]\n",
        "# [3 5 7]\n",
        "# z_matrix + x_arr =>\n",
        "# [[3 6 9]\n",
        "#  [6 9 12]\n",
        "#  [6 10 14]]\n",
        "# z_matrix * z_arr =>\n",
        "# [[4 8 12]\n",
        "#  [12 15 18]\n",
        "#  [8 12 16]]"
      ]
    },
    {
      "cell_type": "markdown",
      "id": "1a88d911",
      "metadata": {
        "id": "1a88d911"
      },
      "source": [
        "## Matplotlib Basics\n",
        "\n",
        "- Matplotlib is a popular library for creating static, animated, and interactive visualizations in Python.\n",
        "- It provides a MATLAB-like interface for creating plots and graphs.  \n",
        "- importing matplotlib is commonly done with the alias `plt`.\n",
        "- `plt.plot()` is used to create a line plot.\n",
        "- `plt.scatter()` is used to create a scatter plot.\n",
        "- `plt.bar()` is used to create a bar plot.\n",
        "- `plt.hist()` is used to create a histogram.\n",
        "- `plt.title()` is used to set the title of the plot.\n",
        "- `plt.xlabel()` is used to set the label of the x-axis.\n",
        "- `plt.ylabel()` is used to set the label of the y-axis.\n",
        "- `plt.grid()` is used to show a grid on the plot.\n",
        "- `plt.legend()` is used to show a legend on the plot.\n",
        "\n",
        "```python\n",
        "import matplotlib.pyplot as plt\n",
        "```\n",
        "\n",
        "**Task:** Understand how to create a basic line plot with labeled axes and a grid.\\*\\*\n"
      ]
    },
    {
      "cell_type": "code",
      "execution_count": 23,
      "id": "2610c15a",
      "metadata": {
        "id": "2610c15a",
        "outputId": "c3f0f77d-96ab-4cce-f09e-7ddd7d3888ec",
        "colab": {
          "base_uri": "https://localhost:8080/",
          "height": 472
        }
      },
      "outputs": [
        {
          "output_type": "display_data",
          "data": {
            "text/plain": [
              "<Figure size 640x480 with 1 Axes>"
            ],
            "image/png": "[encoded data removed]"
          },
          "metadata": {}
        }
      ],
      "source": [
        "import matplotlib.pyplot as plt\n",
        "\n",
        "#plt.plot([0, 1, 2], [0, 1, 4], 'bo-', label='Quadratic Growth')\n",
        "plt.bar([0, 1, 2], [1, 2, 3], color='red', label='Data Points')\n",
        "plt.title(\"Quadratic Growth with Bar Plot\")\n",
        "plt.xlabel(\"X\")\n",
        "plt.ylabel(\"Y\")\n",
        "plt.grid(True)\n",
        "##plt.legend()\n",
        "plt.show()"
      ]
    },
    {
      "cell_type": "markdown",
      "id": "fe034700",
      "metadata": {
        "id": "fe034700"
      },
      "source": [
        "## **Good luck!**\n"
      ]
    }
  ],
  "metadata": {
    "kernelspec": {
      "display_name": ".venv",
      "language": "python",
      "name": "python3"
    },
    "language_info": {
      "codemirror_mode": {
        "name": "ipython",
        "version": 3
      },
      "file_extension": ".py",
      "mimetype": "text/x-python",
      "name": "python",
      "nbconvert_exporter": "python",
      "pygments_lexer": "ipython3",
      "version": "3.12.7"
    },
    "name": "BME3053C-midterm-study-guide-alternate",
    "colab": {
      "provenance": [],
      "include_colab_link": true
    }
  },
  "nbformat": 4,
  "nbformat_minor": 5
}